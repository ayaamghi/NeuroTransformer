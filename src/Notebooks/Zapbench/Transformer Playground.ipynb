{
 "cells": [
  {
   "cell_type": "code",
   "id": "initial_id",
   "metadata": {
    "collapsed": true,
    "ExecuteTime": {
     "end_time": "2025-05-14T20:24:43.560701Z",
     "start_time": "2025-05-14T20:24:39.754165Z"
    }
   },
   "source": [
    "from zapbench import constants\n",
    "from zapbench import data_utils\n",
    "from zapbench.ts_forecasting import data_source\n"
   ],
   "outputs": [],
   "execution_count": 2
  },
  {
   "metadata": {
    "ExecuteTime": {
     "end_time": "2025-05-14T20:28:07.645201Z",
     "start_time": "2025-05-14T20:26:48.869658Z"
    }
   },
   "cell_type": "code",
   "source": [
    "sources = []\n",
    "num_timesteps_context = 4\n",
    "# Iterate over all training conditions (excludes 'taxis'), and create\n",
    "# data sources.\n",
    "for condition_id in constants.CONDITIONS_TRAIN:\n",
    "  config = data_source.TensorStoreTimeSeriesConfig(\n",
    "      input_spec=data_utils.adjust_spec_for_condition_and_split(\n",
    "          condition=condition_id,\n",
    "          split='train',\n",
    "          spec=data_utils.get_spec('240930_traces'),\n",
    "          num_timesteps_context=num_timesteps_context),\n",
    "      timesteps_input=num_timesteps_context,\n",
    "      timesteps_output=constants.PREDICTION_WINDOW_LENGTH,\n",
    "  )\n",
    "  sources.append(data_source.TensorStoreTimeSeries(config, prefetch=True))\n",
    "\n",
    "# Concatenate into a single source.\n",
    "train_source = data_source.ConcatenatedTensorStoreTimeSeries(*sources)\n",
    "\n",
    "f'{len(train_source)=}'\n"
   ],
   "id": "b7fc5edfa22c3fc",
   "outputs": [
    {
     "name": "stderr",
     "output_type": "stream",
     "text": [
      "E0514 16:26:48.920815 163167315 google_auth_provider.cc:188] Could not find the credentials file in the standard gcloud location [/Users/ayaam/.config/gcloud/application_default_credentials.json]. You may specify a credentials file using $GOOGLE_APPLICATION_CREDENTIALS, or to use Google application default credentials, run: gcloud auth application-default login\n"
     ]
    },
    {
     "data": {
      "text/plain": [
       "'len(source)=4772'"
      ]
     },
     "execution_count": 3,
     "metadata": {},
     "output_type": "execute_result"
    }
   ],
   "execution_count": 3
  },
  {
   "metadata": {
    "ExecuteTime": {
     "end_time": "2025-05-14T20:31:35.108074Z",
     "start_time": "2025-05-14T20:30:35.753358Z"
    }
   },
   "cell_type": "code",
   "source": [
    "sources = []\n",
    "for condition_id in constants.CONDITIONS_TRAIN:\n",
    "    config = data_source.TensorStoreTimeSeriesConfig(\n",
    "        input_spec=data_utils.adjust_spec_for_condition_and_split(\n",
    "            condition=condition_id,\n",
    "            split='val',\n",
    "            spec=data_utils.get_spec('240930_traces'),\n",
    "            num_timesteps_context=num_timesteps_context\n",
    "        ),\n",
    "        timesteps_input = num_timesteps_context,\n",
    "        timesteps_output=constants.PREDICTION_WINDOW_LENGTH,\n",
    "    )\n",
    "    sources.append(data_source.TensorStoreTimeSeries(config, prefetch=True))\n",
    "\n",
    "val_source = data_source.ConcatenatedTensorStoreTimeSeries(*sources)\n",
    "f'{len(val_source)=}'"
   ],
   "id": "f253f14684b102",
   "outputs": [
    {
     "data": {
      "text/plain": [
       "'len(val_source)=469'"
      ]
     },
     "execution_count": 6,
     "metadata": {},
     "output_type": "execute_result"
    }
   ],
   "execution_count": 6
  },
  {
   "metadata": {
    "ExecuteTime": {
     "end_time": "2025-05-14T23:09:38.716754Z",
     "start_time": "2025-05-14T23:09:38.649952Z"
    }
   },
   "cell_type": "code",
   "source": [
    "import grain.python as grain\n",
    "batch_size = 8\n",
    "num_epochs = 1\n",
    "shuffle = True\n",
    "\n",
    "train_index_sampler = grain.IndexSampler(\n",
    "    num_records=len(train_source),\n",
    "    num_epochs=num_epochs,\n",
    "    shard_options=grain.ShardOptions(\n",
    "        shard_index=0, shard_count=1, drop_remainder=True),\n",
    "    shuffle=shuffle,\n",
    "    seed=101\n",
    ")\n",
    "\n",
    "train_data_loader = grain.DataLoader(\n",
    "    data_source=train_source,\n",
    "    sampler=train_index_sampler,\n",
    "    operations=[\n",
    "        grain.Batch(\n",
    "            batch_size=batch_size, drop_remainder=True)\n",
    "    ],\n",
    "    worker_count=0\n",
    ")\n",
    "\n",
    "val_index_sampler = grain.IndexSampler(\n",
    "    num_records=len(val_source),\n",
    "    num_epochs=num_epochs,\n",
    "    shard_options=grain.ShardOptions(\n",
    "        shard_index=0, shard_count=1, drop_remainder=True),\n",
    "    shuffle=shuffle,\n",
    "    seed=101\n",
    ")\n",
    "\n",
    "val_data_loader = grain.DataLoader(\n",
    "    data_source=val_source,\n",
    "    sampler=val_index_sampler,\n",
    "    operations=[\n",
    "        grain.Batch(\n",
    "            batch_size=batch_size, drop_remainder=True\n",
    "        )],\n",
    "    worker_count=0\n",
    ")\n"
   ],
   "id": "a46bfa3f8727b8da",
   "outputs": [],
   "execution_count": 21
  },
  {
   "metadata": {
    "ExecuteTime": {
     "end_time": "2025-05-14T23:09:41.180880Z",
     "start_time": "2025-05-14T23:09:41.176281Z"
    }
   },
   "cell_type": "code",
   "source": [
    "\n",
    "loader_dict = {\n",
    "    'train': train_data_loader,\n",
    "    'val': val_data_loader,\n",
    "}\n",
    "def get_batch(split: str):\n",
    "    return next(iter(loader_dict[split]))\n"
   ],
   "id": "b205ae57713a3547",
   "outputs": [],
   "execution_count": 22
  },
  {
   "metadata": {
    "ExecuteTime": {
     "end_time": "2025-05-14T22:13:54.425765Z",
     "start_time": "2025-05-14T22:13:51.790454Z"
    }
   },
   "cell_type": "code",
   "source": [
    "for iteration, element in enumerate(loader_dict['train']):\n",
    "    if iteration % 100 == 0:\n",
    "        print(\"val\")\n"
   ],
   "id": "18fee92926bdbfdd",
   "outputs": [
    {
     "name": "stdout",
     "output_type": "stream",
     "text": [
      "val\n",
      "val\n",
      "val\n",
      "val\n",
      "val\n",
      "val\n"
     ]
    }
   ],
   "execution_count": 20
  },
  {
   "metadata": {
    "ExecuteTime": {
     "end_time": "2025-05-15T01:47:46.358480Z",
     "start_time": "2025-05-15T01:47:46.298047Z"
    }
   },
   "cell_type": "code",
   "source": [
    "from src.Transformer.thingy import GPTLanguageModel\n",
    "import torch\n",
    "model = GPTLanguageModel()\n",
    "model.load_state_dict(torch.load('model.pt'))\n"
   ],
   "id": "9cfc38327cd5c7b4",
   "outputs": [
    {
     "ename": "NameError",
     "evalue": "name 'vocab_size' is not defined",
     "output_type": "error",
     "traceback": [
      "\u001B[31m---------------------------------------------------------------------------\u001B[39m",
      "\u001B[31mNameError\u001B[39m                                 Traceback (most recent call last)",
      "\u001B[36mCell\u001B[39m\u001B[36m \u001B[39m\u001B[32mIn[25]\u001B[39m\u001B[32m, line 3\u001B[39m\n\u001B[32m      1\u001B[39m \u001B[38;5;28;01mfrom\u001B[39;00m\u001B[38;5;250m \u001B[39m\u001B[34;01msrc\u001B[39;00m\u001B[34;01m.\u001B[39;00m\u001B[34;01mTransformer\u001B[39;00m\u001B[34;01m.\u001B[39;00m\u001B[34;01mthingy\u001B[39;00m\u001B[38;5;250m \u001B[39m\u001B[38;5;28;01mimport\u001B[39;00m GPTLanguageModel\n\u001B[32m      2\u001B[39m \u001B[38;5;28;01mimport\u001B[39;00m\u001B[38;5;250m \u001B[39m\u001B[34;01mtorch\u001B[39;00m\n\u001B[32m----> \u001B[39m\u001B[32m3\u001B[39m model = \u001B[43mGPTLanguageModel\u001B[49m\u001B[43m(\u001B[49m\u001B[43m)\u001B[49m\n\u001B[32m      4\u001B[39m model.load_state_dict(torch.load(\u001B[33m'\u001B[39m\u001B[33mmodel.pt\u001B[39m\u001B[33m'\u001B[39m))\n",
      "\u001B[36mFile \u001B[39m\u001B[32m~/Programming/School/NeuroTransformer/src/Transformer/thingy.py:101\u001B[39m, in \u001B[36mGPTLanguageModel.__init__\u001B[39m\u001B[34m(self)\u001B[39m\n\u001B[32m     99\u001B[39m \u001B[38;5;28msuper\u001B[39m().\u001B[34m__init__\u001B[39m()\n\u001B[32m    100\u001B[39m \u001B[38;5;66;03m# each token directly reads off the logits for the next token from a lookup table\u001B[39;00m\n\u001B[32m--> \u001B[39m\u001B[32m101\u001B[39m \u001B[38;5;28mself\u001B[39m.token_embedding_table = nn.Embedding(\u001B[43mvocab_size\u001B[49m, n_embd)\n\u001B[32m    102\u001B[39m \u001B[38;5;28mself\u001B[39m.position_embedding_table = nn.Embedding(block_size, n_embd)\n\u001B[32m    103\u001B[39m \u001B[38;5;28mself\u001B[39m.blocks = nn.Sequential(*[Block(n_embd, n_head=n_head) \u001B[38;5;28;01mfor\u001B[39;00m _ \u001B[38;5;129;01min\u001B[39;00m \u001B[38;5;28mrange\u001B[39m(n_layer)])\n",
      "\u001B[31mNameError\u001B[39m: name 'vocab_size' is not defined"
     ]
    }
   ],
   "execution_count": 25
  }
 ],
 "metadata": {
  "kernelspec": {
   "display_name": "Python 3",
   "language": "python",
   "name": "python3"
  },
  "language_info": {
   "codemirror_mode": {
    "name": "ipython",
    "version": 2
   },
   "file_extension": ".py",
   "mimetype": "text/x-python",
   "name": "python",
   "nbconvert_exporter": "python",
   "pygments_lexer": "ipython2",
   "version": "2.7.6"
  }
 },
 "nbformat": 4,
 "nbformat_minor": 5
}
