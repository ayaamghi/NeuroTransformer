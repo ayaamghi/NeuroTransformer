{
 "cells": [
  {
   "metadata": {},
   "cell_type": "markdown",
   "source": "This notebook goes over how we can represent tokens and their communication through matrix multiplication, as well as covering how we can use softmax for masking.",
   "id": "3e23a4567951d941"
  },
  {
   "cell_type": "code",
   "id": "initial_id",
   "metadata": {
    "collapsed": true,
    "ExecuteTime": {
     "end_time": "2025-05-13T01:13:50.425159Z",
     "start_time": "2025-05-13T01:13:50.418693Z"
    }
   },
   "source": [
    "import torch\n",
    "from torch.nn import functional as F\n"
   ],
   "outputs": [],
   "execution_count": 8
  },
  {
   "metadata": {
    "ExecuteTime": {
     "end_time": "2025-05-13T01:12:35.886744Z",
     "start_time": "2025-05-13T01:12:35.879047Z"
    }
   },
   "cell_type": "code",
   "source": [
    "torch.manual_seed(1337)\n",
    "B,T,C = 4, 8, 2  #batch, time, channel\n",
    "x = torch.randn(B, T, C)\n",
    "x.shape"
   ],
   "id": "df1d851cf1238af0",
   "outputs": [
    {
     "data": {
      "text/plain": [
       "torch.Size([4, 8, 2])"
      ]
     },
     "execution_count": 2,
     "metadata": {},
     "output_type": "execute_result"
    }
   ],
   "execution_count": 2
  },
  {
   "metadata": {
    "ExecuteTime": {
     "end_time": "2025-05-13T01:12:39.188267Z",
     "start_time": "2025-05-13T01:12:39.184571Z"
    }
   },
   "cell_type": "code",
   "source": [
    "xbag_of_words = torch.zeros((B,T, C))\n",
    "\n",
    "for b in range(B):\n",
    "    for t in range(T):\n",
    "        x_prev = x[b, :t + 1]\n",
    "        xbag_of_words[b, t] = torch.mean(x_prev, 0)"
   ],
   "id": "bbd7d5abf87b217b",
   "outputs": [],
   "execution_count": 3
  },
  {
   "metadata": {
    "ExecuteTime": {
     "end_time": "2025-05-13T01:12:51.572444Z",
     "start_time": "2025-05-13T01:12:51.552993Z"
    }
   },
   "cell_type": "code",
   "source": "x[0]",
   "id": "6481a342174029d4",
   "outputs": [
    {
     "data": {
      "text/plain": [
       "tensor([[ 0.1808, -0.0700],\n",
       "        [-0.3596, -0.9152],\n",
       "        [ 0.6258,  0.0255],\n",
       "        [ 0.9545,  0.0643],\n",
       "        [ 0.3612,  1.1679],\n",
       "        [-1.3499, -0.5102],\n",
       "        [ 0.2360, -0.2398],\n",
       "        [-0.9211,  1.5433]])"
      ]
     },
     "execution_count": 4,
     "metadata": {},
     "output_type": "execute_result"
    }
   ],
   "execution_count": 4
  },
  {
   "metadata": {
    "ExecuteTime": {
     "end_time": "2025-05-13T01:12:56.460408Z",
     "start_time": "2025-05-13T01:12:56.454321Z"
    }
   },
   "cell_type": "code",
   "source": "xbag_of_words[0] #each row is an avg of each previous row, so the firt element is the same\n",
   "id": "a7b8aa6fc5a7b997",
   "outputs": [
    {
     "data": {
      "text/plain": [
       "tensor([[ 0.1808, -0.0700],\n",
       "        [-0.0894, -0.4926],\n",
       "        [ 0.1490, -0.3199],\n",
       "        [ 0.3504, -0.2238],\n",
       "        [ 0.3525,  0.0545],\n",
       "        [ 0.0688, -0.0396],\n",
       "        [ 0.0927, -0.0682],\n",
       "        [-0.0341,  0.1332]])"
      ]
     },
     "execution_count": 5,
     "metadata": {},
     "output_type": "execute_result"
    }
   ],
   "execution_count": 5
  },
  {
   "metadata": {
    "ExecuteTime": {
     "end_time": "2025-05-13T01:13:06.478997Z",
     "start_time": "2025-05-13T01:13:06.468893Z"
    }
   },
   "cell_type": "code",
   "source": [
    "#quicker version using the below math trick\n",
    "\n",
    "weight = torch.tril(torch.ones(T, T))\n",
    "weight = weight/weight.sum(1, keepdim=True)\n",
    "xbag_of_words2 = weight @ x # (T,T) @ B,T,C, add a B because of the @ batch multiplication symbol  --> B,T,C\n",
    "torch.allclose(xbag_of_words, xbag_of_words2)"
   ],
   "id": "55bcf4c8d62006b2",
   "outputs": [
    {
     "data": {
      "text/plain": [
       "True"
      ]
     },
     "execution_count": 6,
     "metadata": {},
     "output_type": "execute_result"
    }
   ],
   "execution_count": 6
  },
  {
   "metadata": {
    "ExecuteTime": {
     "end_time": "2025-05-13T01:13:56.384461Z",
     "start_time": "2025-05-13T01:13:56.378125Z"
    }
   },
   "cell_type": "code",
   "source": [
    "#even better softmax\n",
    "\n",
    "triangle = torch.tril(torch.ones(T, T))\n",
    "weight = torch.zeros((T,T))\n",
    "weight = weight.masked_fill(triangle ==0, float('-inf'))\n",
    "weight = F.softmax(weight, dim=-1)\n",
    "xbag_of_words3 = weight @ x\n",
    "torch.allclose(xbag_of_words, xbag_of_words3)"
   ],
   "id": "119077a899c4b77f",
   "outputs": [
    {
     "data": {
      "text/plain": [
       "True"
      ]
     },
     "execution_count": 9,
     "metadata": {},
     "output_type": "execute_result"
    }
   ],
   "execution_count": 9
  },
  {
   "metadata": {},
   "cell_type": "code",
   "outputs": [],
   "execution_count": null,
   "source": "",
   "id": "7cf41b8064e2804b"
  }
 ],
 "metadata": {
  "kernelspec": {
   "display_name": "Python 3",
   "language": "python",
   "name": "python3"
  },
  "language_info": {
   "codemirror_mode": {
    "name": "ipython",
    "version": 2
   },
   "file_extension": ".py",
   "mimetype": "text/x-python",
   "name": "python",
   "nbconvert_exporter": "python",
   "pygments_lexer": "ipython2",
   "version": "2.7.6"
  }
 },
 "nbformat": 4,
 "nbformat_minor": 5
}
