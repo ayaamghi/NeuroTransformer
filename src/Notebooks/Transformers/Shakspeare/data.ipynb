{
 "cells": [
  {
   "metadata": {},
   "cell_type": "markdown",
   "source": "<h1> Basic encoders, bigram model </h1>",
   "id": "56bca3b5bedbaf78"
  },
  {
   "metadata": {},
   "cell_type": "code",
   "outputs": [],
   "execution_count": null,
   "source": "!wget https://raw.githubusercontent.com/karpathy/char-rnn/master/data/tinyshakespeare/input.txt",
   "id": "initial_id"
  },
  {
   "metadata": {
    "ExecuteTime": {
     "end_time": "2025-05-09T15:36:26.287038Z",
     "start_time": "2025-05-09T15:36:26.281814Z"
    }
   },
   "cell_type": "code",
   "source": [
    "with open('input.txt', 'r') as f:\n",
    "    text = f.read()"
   ],
   "id": "8dda8d5bad820001",
   "outputs": [],
   "execution_count": 2
  },
  {
   "metadata": {
    "ExecuteTime": {
     "end_time": "2025-05-09T15:36:27.654628Z",
     "start_time": "2025-05-09T15:36:27.648769Z"
    }
   },
   "cell_type": "code",
   "source": "len(text)",
   "id": "afc9b1e36d4a0936",
   "outputs": [
    {
     "data": {
      "text/plain": [
       "1115394"
      ]
     },
     "execution_count": 3,
     "metadata": {},
     "output_type": "execute_result"
    }
   ],
   "execution_count": 3
  },
  {
   "metadata": {
    "ExecuteTime": {
     "end_time": "2025-05-09T15:36:28.851079Z",
     "start_time": "2025-05-09T15:36:28.847304Z"
    }
   },
   "cell_type": "code",
   "source": "text[:1000]",
   "id": "896f0b38b0d7c28a",
   "outputs": [
    {
     "data": {
      "text/plain": [
       "\"First Citizen:\\nBefore we proceed any further, hear me speak.\\n\\nAll:\\nSpeak, speak.\\n\\nFirst Citizen:\\nYou are all resolved rather to die than to famish?\\n\\nAll:\\nResolved. resolved.\\n\\nFirst Citizen:\\nFirst, you know Caius Marcius is chief enemy to the people.\\n\\nAll:\\nWe know't, we know't.\\n\\nFirst Citizen:\\nLet us kill him, and we'll have corn at our own price.\\nIs't a verdict?\\n\\nAll:\\nNo more talking on't; let it be done: away, away!\\n\\nSecond Citizen:\\nOne word, good citizens.\\n\\nFirst Citizen:\\nWe are accounted poor citizens, the patricians good.\\nWhat authority surfeits on would relieve us: if they\\nwould yield us but the superfluity, while it were\\nwholesome, we might guess they relieved us humanely;\\nbut they think we are too dear: the leanness that\\nafflicts us, the object of our misery, is as an\\ninventory to particularise their abundance; our\\nsufferance is a gain to them Let us revenge this with\\nour pikes, ere we become rakes: for the gods know I\\nspeak this in hunger for bread, not in thirst for revenge.\\n\\n\""
      ]
     },
     "execution_count": 4,
     "metadata": {},
     "output_type": "execute_result"
    }
   ],
   "execution_count": 4
  },
  {
   "metadata": {
    "ExecuteTime": {
     "end_time": "2025-05-09T15:36:30.907452Z",
     "start_time": "2025-05-09T15:36:30.895556Z"
    }
   },
   "cell_type": "code",
   "source": [
    "chars = sorted(list(set(text)))\n",
    "vocab_size = len(chars)\n",
    "print(''.join(chars))\n",
    "vocab_size"
   ],
   "id": "b22fdee4d30cf105",
   "outputs": [
    {
     "name": "stdout",
     "output_type": "stream",
     "text": [
      "\n",
      " !$&',-.3:;?ABCDEFGHIJKLMNOPQRSTUVWXYZabcdefghijklmnopqrstuvwxyz\n"
     ]
    },
    {
     "data": {
      "text/plain": [
       "65"
      ]
     },
     "execution_count": 5,
     "metadata": {},
     "output_type": "execute_result"
    }
   ],
   "execution_count": 5
  },
  {
   "metadata": {},
   "cell_type": "markdown",
   "source": "Here, we just need some sort of encoder from character to integer. We could call gpt2 embeddings (vocab size ~50k) or we can just write our own small, simple tokenizer that just works off of a dictionary enumeration.",
   "id": "73bee27544165eb9"
  },
  {
   "metadata": {
    "ExecuteTime": {
     "end_time": "2025-05-09T15:47:59.572786Z",
     "start_time": "2025-05-09T15:47:59.566801Z"
    }
   },
   "cell_type": "code",
   "source": [
    "#for every char, int pair, define a dictionary of int to char and char to int\n",
    "char_to_int = {char:i for i, char in enumerate(chars)}\n",
    "int_to_char = {i:char for i, char in enumerate(chars)}\n",
    "\n",
    "encode = lambda string : [char_to_int[char] for char in string]\n",
    "decode = lambda integers : ''.join([int_to_char[i] for i in integers]) #''.join() joins together characters with nothing between them\n",
    "\n",
    "print(encode(\"hii there\"))\n",
    "print(decode(encode(\"hii there\")))"
   ],
   "id": "ba38d16c17dd16bb",
   "outputs": [
    {
     "name": "stdout",
     "output_type": "stream",
     "text": [
      "[46, 47, 47, 1, 58, 46, 43, 56, 43]\n",
      "hii there\n"
     ]
    }
   ],
   "execution_count": 32
  },
  {
   "metadata": {},
   "cell_type": "markdown",
   "source": "Let's do some Pytorch now",
   "id": "bea07ef4dcc0304"
  },
  {
   "metadata": {
    "ExecuteTime": {
     "end_time": "2025-05-09T15:36:40.870880Z",
     "start_time": "2025-05-09T15:36:39.910536Z"
    }
   },
   "cell_type": "code",
   "source": [
    "#use torch.tensor to use pytorch\n",
    "import torch\n",
    "data = torch.tensor(encode(text), dtype=torch.long)\n",
    "print(data.shape, data.dtype)\n",
    "data[:1000]"
   ],
   "id": "2cb617a49fba8a7e",
   "outputs": [
    {
     "name": "stdout",
     "output_type": "stream",
     "text": [
      "torch.Size([1115394]) torch.int64\n"
     ]
    },
    {
     "data": {
      "text/plain": [
       "tensor([18, 47, 56, 57, 58,  1, 15, 47, 58, 47, 64, 43, 52, 10,  0, 14, 43, 44,\n",
       "        53, 56, 43,  1, 61, 43,  1, 54, 56, 53, 41, 43, 43, 42,  1, 39, 52, 63,\n",
       "         1, 44, 59, 56, 58, 46, 43, 56,  6,  1, 46, 43, 39, 56,  1, 51, 43,  1,\n",
       "        57, 54, 43, 39, 49,  8,  0,  0, 13, 50, 50, 10,  0, 31, 54, 43, 39, 49,\n",
       "         6,  1, 57, 54, 43, 39, 49,  8,  0,  0, 18, 47, 56, 57, 58,  1, 15, 47,\n",
       "        58, 47, 64, 43, 52, 10,  0, 37, 53, 59,  1, 39, 56, 43,  1, 39, 50, 50,\n",
       "         1, 56, 43, 57, 53, 50, 60, 43, 42,  1, 56, 39, 58, 46, 43, 56,  1, 58,\n",
       "        53,  1, 42, 47, 43,  1, 58, 46, 39, 52,  1, 58, 53,  1, 44, 39, 51, 47,\n",
       "        57, 46, 12,  0,  0, 13, 50, 50, 10,  0, 30, 43, 57, 53, 50, 60, 43, 42,\n",
       "         8,  1, 56, 43, 57, 53, 50, 60, 43, 42,  8,  0,  0, 18, 47, 56, 57, 58,\n",
       "         1, 15, 47, 58, 47, 64, 43, 52, 10,  0, 18, 47, 56, 57, 58,  6,  1, 63,\n",
       "        53, 59,  1, 49, 52, 53, 61,  1, 15, 39, 47, 59, 57,  1, 25, 39, 56, 41,\n",
       "        47, 59, 57,  1, 47, 57,  1, 41, 46, 47, 43, 44,  1, 43, 52, 43, 51, 63,\n",
       "         1, 58, 53,  1, 58, 46, 43,  1, 54, 43, 53, 54, 50, 43,  8,  0,  0, 13,\n",
       "        50, 50, 10,  0, 35, 43,  1, 49, 52, 53, 61,  5, 58,  6,  1, 61, 43,  1,\n",
       "        49, 52, 53, 61,  5, 58,  8,  0,  0, 18, 47, 56, 57, 58,  1, 15, 47, 58,\n",
       "        47, 64, 43, 52, 10,  0, 24, 43, 58,  1, 59, 57,  1, 49, 47, 50, 50,  1,\n",
       "        46, 47, 51,  6,  1, 39, 52, 42,  1, 61, 43,  5, 50, 50,  1, 46, 39, 60,\n",
       "        43,  1, 41, 53, 56, 52,  1, 39, 58,  1, 53, 59, 56,  1, 53, 61, 52,  1,\n",
       "        54, 56, 47, 41, 43,  8,  0, 21, 57,  5, 58,  1, 39,  1, 60, 43, 56, 42,\n",
       "        47, 41, 58, 12,  0,  0, 13, 50, 50, 10,  0, 26, 53,  1, 51, 53, 56, 43,\n",
       "         1, 58, 39, 50, 49, 47, 52, 45,  1, 53, 52,  5, 58, 11,  1, 50, 43, 58,\n",
       "         1, 47, 58,  1, 40, 43,  1, 42, 53, 52, 43, 10,  1, 39, 61, 39, 63,  6,\n",
       "         1, 39, 61, 39, 63,  2,  0,  0, 31, 43, 41, 53, 52, 42,  1, 15, 47, 58,\n",
       "        47, 64, 43, 52, 10,  0, 27, 52, 43,  1, 61, 53, 56, 42,  6,  1, 45, 53,\n",
       "        53, 42,  1, 41, 47, 58, 47, 64, 43, 52, 57,  8,  0,  0, 18, 47, 56, 57,\n",
       "        58,  1, 15, 47, 58, 47, 64, 43, 52, 10,  0, 35, 43,  1, 39, 56, 43,  1,\n",
       "        39, 41, 41, 53, 59, 52, 58, 43, 42,  1, 54, 53, 53, 56,  1, 41, 47, 58,\n",
       "        47, 64, 43, 52, 57,  6,  1, 58, 46, 43,  1, 54, 39, 58, 56, 47, 41, 47,\n",
       "        39, 52, 57,  1, 45, 53, 53, 42,  8,  0, 35, 46, 39, 58,  1, 39, 59, 58,\n",
       "        46, 53, 56, 47, 58, 63,  1, 57, 59, 56, 44, 43, 47, 58, 57,  1, 53, 52,\n",
       "         1, 61, 53, 59, 50, 42,  1, 56, 43, 50, 47, 43, 60, 43,  1, 59, 57, 10,\n",
       "         1, 47, 44,  1, 58, 46, 43, 63,  0, 61, 53, 59, 50, 42,  1, 63, 47, 43,\n",
       "        50, 42,  1, 59, 57,  1, 40, 59, 58,  1, 58, 46, 43,  1, 57, 59, 54, 43,\n",
       "        56, 44, 50, 59, 47, 58, 63,  6,  1, 61, 46, 47, 50, 43,  1, 47, 58,  1,\n",
       "        61, 43, 56, 43,  0, 61, 46, 53, 50, 43, 57, 53, 51, 43,  6,  1, 61, 43,\n",
       "         1, 51, 47, 45, 46, 58,  1, 45, 59, 43, 57, 57,  1, 58, 46, 43, 63,  1,\n",
       "        56, 43, 50, 47, 43, 60, 43, 42,  1, 59, 57,  1, 46, 59, 51, 39, 52, 43,\n",
       "        50, 63, 11,  0, 40, 59, 58,  1, 58, 46, 43, 63,  1, 58, 46, 47, 52, 49,\n",
       "         1, 61, 43,  1, 39, 56, 43,  1, 58, 53, 53,  1, 42, 43, 39, 56, 10,  1,\n",
       "        58, 46, 43,  1, 50, 43, 39, 52, 52, 43, 57, 57,  1, 58, 46, 39, 58,  0,\n",
       "        39, 44, 44, 50, 47, 41, 58, 57,  1, 59, 57,  6,  1, 58, 46, 43,  1, 53,\n",
       "        40, 48, 43, 41, 58,  1, 53, 44,  1, 53, 59, 56,  1, 51, 47, 57, 43, 56,\n",
       "        63,  6,  1, 47, 57,  1, 39, 57,  1, 39, 52,  0, 47, 52, 60, 43, 52, 58,\n",
       "        53, 56, 63,  1, 58, 53,  1, 54, 39, 56, 58, 47, 41, 59, 50, 39, 56, 47,\n",
       "        57, 43,  1, 58, 46, 43, 47, 56,  1, 39, 40, 59, 52, 42, 39, 52, 41, 43,\n",
       "        11,  1, 53, 59, 56,  0, 57, 59, 44, 44, 43, 56, 39, 52, 41, 43,  1, 47,\n",
       "        57,  1, 39,  1, 45, 39, 47, 52,  1, 58, 53,  1, 58, 46, 43, 51,  1, 24,\n",
       "        43, 58,  1, 59, 57,  1, 56, 43, 60, 43, 52, 45, 43,  1, 58, 46, 47, 57,\n",
       "         1, 61, 47, 58, 46,  0, 53, 59, 56,  1, 54, 47, 49, 43, 57,  6,  1, 43,\n",
       "        56, 43,  1, 61, 43,  1, 40, 43, 41, 53, 51, 43,  1, 56, 39, 49, 43, 57,\n",
       "        10,  1, 44, 53, 56,  1, 58, 46, 43,  1, 45, 53, 42, 57,  1, 49, 52, 53,\n",
       "        61,  1, 21,  0, 57, 54, 43, 39, 49,  1, 58, 46, 47, 57,  1, 47, 52,  1,\n",
       "        46, 59, 52, 45, 43, 56,  1, 44, 53, 56,  1, 40, 56, 43, 39, 42,  6,  1,\n",
       "        52, 53, 58,  1, 47, 52,  1, 58, 46, 47, 56, 57, 58,  1, 44, 53, 56,  1,\n",
       "        56, 43, 60, 43, 52, 45, 43,  8,  0,  0])"
      ]
     },
     "execution_count": 8,
     "metadata": {},
     "output_type": "execute_result"
    }
   ],
   "execution_count": 8
  },
  {
   "metadata": {
    "ExecuteTime": {
     "end_time": "2025-05-09T15:36:42.722308Z",
     "start_time": "2025-05-09T15:36:42.719868Z"
    }
   },
   "cell_type": "code",
   "source": [
    "#create train, val split\n",
    "\n",
    "train_val_split = .9 #take 90% val\n",
    "\n",
    "train_data = data[:int(len(data) * train_val_split)]\n",
    "val_data = data[int(len(data) * train_val_split):]\n"
   ],
   "id": "4015df9a37c1586c",
   "outputs": [],
   "execution_count": 9
  },
  {
   "metadata": {},
   "cell_type": "markdown",
   "source": "To follow the video, we use block sizes/contexts of 8. Each block actually contains 8 different context examples",
   "id": "36cbc93daa1dd61b"
  },
  {
   "metadata": {
    "ExecuteTime": {
     "end_time": "2025-05-09T15:36:46.090268Z",
     "start_time": "2025-05-09T15:36:46.086146Z"
    }
   },
   "cell_type": "code",
   "source": [
    "block_size = 8 #this is a maximimum num of context for a target\n",
    "train_data[:block_size+1]"
   ],
   "id": "938f5a81741d1d83",
   "outputs": [
    {
     "data": {
      "text/plain": [
       "tensor([18, 47, 56, 57, 58,  1, 15, 47, 58])"
      ]
     },
     "execution_count": 10,
     "metadata": {},
     "output_type": "execute_result"
    }
   ],
   "execution_count": 10
  },
  {
   "metadata": {
    "ExecuteTime": {
     "end_time": "2025-05-09T15:36:47.841010Z",
     "start_time": "2025-05-09T15:36:47.834695Z"
    }
   },
   "cell_type": "code",
   "source": [
    "x = train_data[:block_size]\n",
    "y = train_data[1:block_size+1:]\n",
    "for idx in range(block_size):\n",
    "    context = x[:idx + 1]\n",
    "    target = y[idx]\n",
    "    print(f\"when input is {context} target is {target}\")"
   ],
   "id": "f4946c9a02c4dc97",
   "outputs": [
    {
     "name": "stdout",
     "output_type": "stream",
     "text": [
      "when input is tensor([18]) target is 47\n",
      "when input is tensor([18, 47]) target is 56\n",
      "when input is tensor([18, 47, 56]) target is 57\n",
      "when input is tensor([18, 47, 56, 57]) target is 58\n",
      "when input is tensor([18, 47, 56, 57, 58]) target is 1\n",
      "when input is tensor([18, 47, 56, 57, 58,  1]) target is 15\n",
      "when input is tensor([18, 47, 56, 57, 58,  1, 15]) target is 47\n",
      "when input is tensor([18, 47, 56, 57, 58,  1, 15, 47]) target is 58\n"
     ]
    }
   ],
   "execution_count": 11
  },
  {
   "metadata": {},
   "cell_type": "markdown",
   "source": "The following section will use grain for batch loading when working with the Zapbench dataset. For now, we just define each target batch as being +1 off of each context batch.",
   "id": "b2196fa124e4fee1"
  },
  {
   "metadata": {
    "ExecuteTime": {
     "end_time": "2025-05-09T15:57:15.497530Z",
     "start_time": "2025-05-09T15:57:15.480368Z"
    }
   },
   "cell_type": "code",
   "source": [
    "torch.manual_seed(1337)\n",
    "batch_size = 4 #how many of the blocks are you looking at simultaneously\n",
    "\n",
    "def get_batch(split):\n",
    "    data = train_data if split == 'train' else val_data\n",
    "    batch_start_index = torch.randint(len(data) - block_size, (batch_size,))\n",
    "    x = torch.stack([data[i:i+block_size] for i in batch_start_index])\n",
    "    y = torch.stack([data[i+1: i + block_size+1] for i in batch_start_index])\n",
    "    return x, y\n",
    "xb, yb = get_batch('train')\n",
    "print('inputs')\n",
    "print(xb.shape)\n",
    "print(xb)\n",
    "\n",
    "print('targets')\n",
    "print(yb.shape)\n",
    "print(yb)\n",
    "\n",
    "print('-------')\n"
   ],
   "id": "dab495682ce00",
   "outputs": [
    {
     "name": "stdout",
     "output_type": "stream",
     "text": [
      "inputs\n",
      "torch.Size([4, 8])\n",
      "tensor([[24, 43, 58,  5, 57,  1, 46, 43],\n",
      "        [44, 53, 56,  1, 58, 46, 39, 58],\n",
      "        [52, 58,  1, 58, 46, 39, 58,  1],\n",
      "        [25, 17, 27, 10,  0, 21,  1, 54]])\n",
      "targets\n",
      "torch.Size([4, 8])\n",
      "tensor([[43, 58,  5, 57,  1, 46, 43, 39],\n",
      "        [53, 56,  1, 58, 46, 39, 58,  1],\n",
      "        [58,  1, 58, 46, 39, 58,  1, 46],\n",
      "        [17, 27, 10,  0, 21,  1, 54, 39]])\n",
      "-------\n"
     ]
    }
   ],
   "execution_count": 38
  },
  {
   "metadata": {},
   "cell_type": "markdown",
   "source": "An example of a language model, Bigram language model (think 2-grams)",
   "id": "84d17ed7c203de05"
  },
  {
   "metadata": {
    "ExecuteTime": {
     "end_time": "2025-05-09T15:55:43.911301Z",
     "start_time": "2025-05-09T15:55:43.873573Z"
    }
   },
   "cell_type": "code",
   "source": [
    "import torch.nn as nn\n",
    "from torch.nn import functional as F\n",
    "torch.manual_seed(1337)\n",
    "\n",
    "class BigramLanguageModel(nn.Module):\n",
    "    def __init__(self, vocab_size):\n",
    "        super().__init__()\n",
    "        self.token_embedding_table = nn.Embedding(vocab_size, vocab_size) #todo understand\n",
    "\n",
    "    def forward(self, index, targets = None):\n",
    "        logits = self.token_embedding_table(index) #todo understand\n",
    "\n",
    "        if targets is not None:\n",
    "            B,T,C = logits.shape #todo understand\n",
    "            logits = logits.view(B*T, C) #todo understand\n",
    "            targets= targets.view(B*T) #todo understand\n",
    "            loss= F.cross_entropy(logits, targets)\n",
    "        else:\n",
    "            loss = None\n",
    "        return logits, loss\n",
    "\n",
    "    def generate(self, index, max_new_tokens):\n",
    "        for _ in range(max_new_tokens):\n",
    "            logits, loss = self.forward(index) #todo understand\n",
    "            logits = logits[:, -1, :] #todo understand\n",
    "            probs = F.softmax(logits, dim=-1) #todo understand\n",
    "            index_next = torch.multinomial(probs, num_samples=1) #todo understand\n",
    "            index = torch.cat([index, index_next], dim=1) #todo understand\n",
    "        return index\n",
    "m = BigramLanguageModel(vocab_size)\n",
    "logits, loss = m(xb, yb)\n",
    "print(logits.shape)\n",
    "print(loss)\n",
    "\n",
    "\n",
    "index = torch.zeros((1,1), dtype=torch.long)\n",
    "print(decode(m.generate(index , max_new_tokens = 100)[0].tolist()))"
   ],
   "id": "95f69b6158c7c42f",
   "outputs": [
    {
     "name": "stdout",
     "output_type": "stream",
     "text": [
      "torch.Size([32, 65])\n",
      "tensor(4.8786, grad_fn=<NllLossBackward0>)\n",
      "\n",
      "SKIcLT;AcELMoTbvZv C?nq-QE33:CJqkOKH-q;:la!oiywkHjgChzbQ?u!3bLIgwevmyFJGUGp\n",
      "wnYWmnxKWWev-tDqXErVKLgJ\n"
     ]
    }
   ],
   "execution_count": 37
  },
  {
   "metadata": {
    "ExecuteTime": {
     "end_time": "2025-05-09T16:02:41.379105Z",
     "start_time": "2025-05-09T16:02:40.504431Z"
    }
   },
   "cell_type": "code",
   "source": [
    "optimizer = torch.optim.Adam(m.parameters(), lr= 1e-3)\n",
    "\n"
   ],
   "id": "a4535b5c3a201378",
   "outputs": [],
   "execution_count": 40
  },
  {
   "metadata": {
    "ExecuteTime": {
     "end_time": "2025-05-10T03:34:42.314225Z",
     "start_time": "2025-05-10T03:28:43.469886Z"
    }
   },
   "cell_type": "code",
   "source": [
    "batch_size = 32\n",
    "\n",
    "for steps in range(1000000):\n",
    "    xb, yb = get_batch('train')\n",
    "    logits, loss = m(xb, yb)\n",
    "    optimizer.zero_grad(set_to_none=True)\n",
    "    loss.backward()\n",
    "    optimizer.step()\n",
    "\n",
    "print(loss.item())"
   ],
   "id": "c61938f7d375f7a3",
   "outputs": [
    {
     "name": "stdout",
     "output_type": "stream",
     "text": [
      "2.478142023086548\n"
     ]
    }
   ],
   "execution_count": 109
  },
  {
   "metadata": {
    "ExecuteTime": {
     "end_time": "2025-05-10T03:35:21.450135Z",
     "start_time": "2025-05-10T03:35:21.422508Z"
    }
   },
   "cell_type": "code",
   "source": "print(decode(m.generate(index , max_new_tokens = 500)[0].tolist()))\n",
   "id": "fad0be64c492fc87",
   "outputs": [
    {
     "name": "stdout",
     "output_type": "stream",
     "text": [
      "\n",
      "\n",
      "Stceat d he mis;\n",
      "The, canern hisicand bed\n",
      "S:\n",
      "IESSILYomysm s: cour?\n",
      "Ha Her I'Murpursuro lan'dr or her ily alld bit t.\n",
      "tis h\n",
      "' w hon at VOf rostth, llin hare for Whomstonon t lendin cewof cen.\n",
      "O:\n",
      "Ash grd ld.\n",
      "S:\n",
      "S: the w's omy anjend oy t ha rthenowheeato tillou Theere bo l! bomee he, perele rd teod ar br\n",
      "HA sin kiathesor K:\n",
      "S:\n",
      "MEEd,\n",
      "Of here?\n",
      "\n",
      "\n",
      "CK: n rrthr Me car:\n",
      "Bu,\n",
      "GERDUCOF tho, thedom, her,\n",
      "Myeme hoyon-dit INom hthathall hamere:\n",
      "OPEShed,\n",
      "Prut ata ddositeter;\n",
      "Plilaisthte f alas:\n",
      "Th ' wr fo ir;\n",
      "\n"
     ]
    }
   ],
   "execution_count": 111
  },
  {
   "metadata": {},
   "cell_type": "code",
   "outputs": [],
   "execution_count": null,
   "source": "",
   "id": "d38faf1e158ccec7"
  },
  {
   "metadata": {},
   "cell_type": "markdown",
   "source": "<h1> Math trick behind self-attention </h1>\n",
   "id": "1d8f5611db8fd34e"
  },
  {
   "metadata": {
    "ExecuteTime": {
     "end_time": "2025-05-12T18:40:02.281334Z",
     "start_time": "2025-05-12T18:40:01.956256Z"
    }
   },
   "cell_type": "code",
   "source": [
    "torch.manual_seed(1337)\n",
    "B,T,C = 4, 8, 2  #batch, time, channel\n",
    "x = torch.randn(B, T, C)\n",
    "x.shape"
   ],
   "id": "af615e948cab8a37",
   "outputs": [
    {
     "data": {
      "text/plain": [
       "torch.Size([4, 8, 2])"
      ]
     },
     "execution_count": 130,
     "metadata": {},
     "output_type": "execute_result"
    }
   ],
   "execution_count": 130
  },
  {
   "metadata": {
    "ExecuteTime": {
     "end_time": "2025-05-12T19:57:03.446823Z",
     "start_time": "2025-05-12T19:57:03.432459Z"
    }
   },
   "cell_type": "code",
   "source": [
    "xbag_of_words = torch.zeros((B,T, C))\n",
    "\n",
    "for b in range(B):\n",
    "    for t in range(T):\n",
    "        x_prev = x[b, :t + 1]\n",
    "        xbag_of_words[b, t] = torch.mean(x_prev, 0)"
   ],
   "id": "28feab6a7ebe9b44",
   "outputs": [],
   "execution_count": 143
  },
  {
   "metadata": {},
   "cell_type": "code",
   "outputs": [],
   "execution_count": null,
   "source": "",
   "id": "730b9c0d260e8dd4"
  },
  {
   "metadata": {
    "ExecuteTime": {
     "end_time": "2025-05-12T18:40:12.248605Z",
     "start_time": "2025-05-12T18:40:12.234556Z"
    }
   },
   "cell_type": "code",
   "source": "x[0]",
   "id": "ea26b14b97813b0",
   "outputs": [
    {
     "data": {
      "text/plain": [
       "tensor([[ 0.1808, -0.0700],\n",
       "        [-0.3596, -0.9152],\n",
       "        [ 0.6258,  0.0255],\n",
       "        [ 0.9545,  0.0643],\n",
       "        [ 0.3612,  1.1679],\n",
       "        [-1.3499, -0.5102],\n",
       "        [ 0.2360, -0.2398],\n",
       "        [-0.9211,  1.5433]])"
      ]
     },
     "execution_count": 133,
     "metadata": {},
     "output_type": "execute_result"
    }
   ],
   "execution_count": 133
  },
  {
   "metadata": {
    "ExecuteTime": {
     "end_time": "2025-05-12T18:42:21.739754Z",
     "start_time": "2025-05-12T18:42:21.727822Z"
    }
   },
   "cell_type": "code",
   "source": "xbag_of_words[0] #each row is an avg of each previous row, so the firt element is the same",
   "id": "b240b404cbf23164",
   "outputs": [
    {
     "data": {
      "text/plain": [
       "tensor([[ 0.1808, -0.0700],\n",
       "        [-0.0894, -0.4926],\n",
       "        [ 0.1490, -0.3199],\n",
       "        [ 0.3504, -0.2238],\n",
       "        [ 0.3525,  0.0545],\n",
       "        [ 0.0688, -0.0396],\n",
       "        [ 0.0927, -0.0682],\n",
       "        [-0.0341,  0.1332]])"
      ]
     },
     "execution_count": 137,
     "metadata": {},
     "output_type": "execute_result"
    }
   ],
   "execution_count": 137
  },
  {
   "metadata": {
    "ExecuteTime": {
     "end_time": "2025-05-12T19:57:12.581386Z",
     "start_time": "2025-05-12T19:57:12.577122Z"
    }
   },
   "cell_type": "code",
   "source": [
    "#quicker version using the below math trick\n",
    "\n",
    "weight = torch.tril(torch.ones(T, T))\n",
    "weight = weight/weight.sum(1, keepdim=True)\n",
    "xbag_of_words2 = weight @ x # (T,T) @ B,T,C, add a B because of the @ batch multiplication symbol  --> B,T,C\n",
    "torch.allclose(xbag_of_words, xbag_of_words2)"
   ],
   "id": "74cfac4b02c152cc",
   "outputs": [
    {
     "data": {
      "text/plain": [
       "True"
      ]
     },
     "execution_count": 156,
     "metadata": {},
     "output_type": "execute_result"
    }
   ],
   "execution_count": 156
  },
  {
   "metadata": {
    "ExecuteTime": {
     "end_time": "2025-05-12T20:01:11.850791Z",
     "start_time": "2025-05-12T20:01:11.820312Z"
    }
   },
   "cell_type": "code",
   "source": [
    "#even better softmax\n",
    "\n",
    "triangle = torch.tril(torch.ones(T, T))\n",
    "weight = torch.zeros((T,T))\n",
    "weight = weight.masked_fill(triangle ==0, float('-inf'))\n",
    "weight = F.softmax(weight, dim=-1)\n",
    "xbag_of_words3 = weight @ x\n",
    "torch.allclose(xbag_of_words, xbag_of_words3)"
   ],
   "id": "a5adbf9a775fe530",
   "outputs": [
    {
     "data": {
      "text/plain": [
       "True"
      ]
     },
     "execution_count": 157,
     "metadata": {},
     "output_type": "execute_result"
    }
   ],
   "execution_count": 157
  },
  {
   "metadata": {
    "ExecuteTime": {
     "end_time": "2025-05-12T18:50:33.230066Z",
     "start_time": "2025-05-12T18:50:33.206928Z"
    }
   },
   "cell_type": "code",
   "source": "torch.tril(torch.ones(3,3))",
   "id": "b5b0bb6121d5bcd8",
   "outputs": [
    {
     "data": {
      "text/plain": [
       "tensor([[1., 0., 0.],\n",
       "        [1., 1., 0.],\n",
       "        [1., 1., 1.]])"
      ]
     },
     "execution_count": 139,
     "metadata": {},
     "output_type": "execute_result"
    }
   ],
   "execution_count": 139
  },
  {
   "metadata": {
    "ExecuteTime": {
     "end_time": "2025-05-12T18:51:01.097602Z",
     "start_time": "2025-05-12T18:51:01.089750Z"
    }
   },
   "cell_type": "code",
   "source": [
    "torch.manual_seed(42)\n",
    "a = torch.tril(torch.ones(3,3))\n",
    "b = torch.randint(0,10,(3,2)).float() #pick nums between 0 and 10 for a 3x2 matrix\n",
    "c = a @ b #multiply the  matrices\n",
    "print('a =')\n",
    "print(a)\n",
    "print('b =')\n",
    "print(b)\n",
    "print('c =')\n",
    "print(c)\n"
   ],
   "id": "83fe83ffc8cb5f4a",
   "outputs": [
    {
     "name": "stdout",
     "output_type": "stream",
     "text": [
      "a =\n",
      "tensor([[1., 0., 0.],\n",
      "        [1., 1., 0.],\n",
      "        [1., 1., 1.]])\n",
      "b =\n",
      "tensor([[2., 7.],\n",
      "        [6., 4.],\n",
      "        [6., 5.]])\n",
      "c =\n",
      "tensor([[ 2.,  7.],\n",
      "        [ 8., 11.],\n",
      "        [14., 16.]])\n"
     ]
    }
   ],
   "execution_count": 140
  },
  {
   "metadata": {},
   "cell_type": "markdown",
   "source": "Since we took out a number of the 1s, when we multiply it together, we can then divide by dimension and this allows us to take a average. First row is average of first row (itself), second is average of first two, third average of first 3, etc.",
   "id": "478ed798e6653b00"
  },
  {
   "metadata": {
    "ExecuteTime": {
     "end_time": "2025-05-12T18:52:48.185885Z",
     "start_time": "2025-05-12T18:52:48.158843Z"
    }
   },
   "cell_type": "code",
   "source": [
    "torch.manual_seed(42)\n",
    "a = torch.tril(torch.ones(3,3))\n",
    "a=  a/torch.sum(a, 1, keepdim=True)\n",
    "b = torch.randint(0,10,(3,2)).float() #pick nums between 0 and 10 for a 3x2 matrix\n",
    "c = a @ b #multiply the  matrices\n",
    "print('a =')\n",
    "print(a)\n",
    "print('b =')\n",
    "print(b)\n",
    "print('c =')\n",
    "print(c)\n"
   ],
   "id": "e6880d029b7a6620",
   "outputs": [
    {
     "name": "stdout",
     "output_type": "stream",
     "text": [
      "a =\n",
      "tensor([[1.0000, 0.0000, 0.0000],\n",
      "        [0.5000, 0.5000, 0.0000],\n",
      "        [0.3333, 0.3333, 0.3333]])\n",
      "b =\n",
      "tensor([[2., 7.],\n",
      "        [6., 4.],\n",
      "        [6., 5.]])\n",
      "c =\n",
      "tensor([[2.0000, 7.0000],\n",
      "        [4.0000, 5.5000],\n",
      "        [4.6667, 5.3333]])\n"
     ]
    }
   ],
   "execution_count": 141
  }
 ],
 "metadata": {
  "kernelspec": {
   "display_name": "Python 3",
   "language": "python",
   "name": "python3"
  },
  "language_info": {
   "codemirror_mode": {
    "name": "ipython",
    "version": 2
   },
   "file_extension": ".py",
   "mimetype": "text/x-python",
   "name": "python",
   "nbconvert_exporter": "python",
   "pygments_lexer": "ipython2",
   "version": "2.7.6"
  }
 },
 "nbformat": 4,
 "nbformat_minor": 5
}
